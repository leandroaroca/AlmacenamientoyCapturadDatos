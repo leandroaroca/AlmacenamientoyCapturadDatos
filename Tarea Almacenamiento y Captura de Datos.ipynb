{
 "cells": [
  {
   "cell_type": "markdown",
   "id": "4ccc924f",
   "metadata": {},
   "source": [
    "# Tarea Almacenamiento y Captura de Datos"
   ]
  },
  {
   "cell_type": "markdown",
   "id": "b08f239e",
   "metadata": {},
   "source": [
    "## Ejercicio 1:"
   ]
  },
  {
   "cell_type": "markdown",
   "id": "5146181c",
   "metadata": {},
   "source": [
    "### Realice un proceso de web scraping para el sitio https://jetsmart.com/cl/es/. Para ello realice las siguientes tareas:\n",
    "#### 1) Utilizar Selenium para emular un navegador y cargar la página requerida (1 punto).\n",
    "#### 2) Buscar vuelos desde Santiago a Arica del 1 de febrero al 28 de febrero utilizando los campos de inputs del buscador de la página (1 punto).\n",
    "#### 3) Una vez en la página de resultados, extraiga la información de precios y fechas de vuelos de ida y de vuelta para todos los días de febrero y genere un dataframe con la información de precios y fechas (2 puntos).\n",
    "#### 4) Crear una base de datos sqlite con la información del dataframe (1 punto).\n",
    "#### 5) Realizar una consulta SQL para seleccionar los vuelos de ida y vuelta con el precio total mínimo (1 punto)."
   ]
  },
  {
   "cell_type": "markdown",
   "id": "6c93b447",
   "metadata": {},
   "source": [
    "### Instalamos las librerias necesarias para usar Selenium"
   ]
  },
  {
   "cell_type": "code",
   "execution_count": 10,
   "id": "c6fd57f2",
   "metadata": {},
   "outputs": [
    {
     "name": "stdout",
     "output_type": "stream",
     "text": [
      "Requirement already satisfied: selenium in d:\\descargas\\anaconda2\\envs\\tensorflow\\lib\\site-packages (4.7.2)\n",
      "Requirement already satisfied: trio-websocket~=0.9 in d:\\descargas\\anaconda2\\envs\\tensorflow\\lib\\site-packages (from selenium) (0.9.2)\n",
      "Requirement already satisfied: trio~=0.17 in d:\\descargas\\anaconda2\\envs\\tensorflow\\lib\\site-packages (from selenium) (0.22.0)\n",
      "Requirement already satisfied: urllib3[socks]~=1.26 in d:\\descargas\\anaconda2\\envs\\tensorflow\\lib\\site-packages (from selenium) (1.26.13)\n",
      "Requirement already satisfied: certifi>=2021.10.8 in d:\\descargas\\anaconda2\\envs\\tensorflow\\lib\\site-packages (from selenium) (2022.12.7)\n",
      "Requirement already satisfied: async-generator>=1.9 in d:\\descargas\\anaconda2\\envs\\tensorflow\\lib\\site-packages (from trio~=0.17->selenium) (1.10)\n",
      "Requirement already satisfied: sortedcontainers in d:\\descargas\\anaconda2\\envs\\tensorflow\\lib\\site-packages (from trio~=0.17->selenium) (2.4.0)\n",
      "Requirement already satisfied: exceptiongroup>=1.0.0rc9 in d:\\descargas\\anaconda2\\envs\\tensorflow\\lib\\site-packages (from trio~=0.17->selenium) (1.0.4)\n",
      "Requirement already satisfied: idna in d:\\descargas\\anaconda2\\envs\\tensorflow\\lib\\site-packages (from trio~=0.17->selenium) (3.4)\n",
      "Requirement already satisfied: outcome in d:\\descargas\\anaconda2\\envs\\tensorflow\\lib\\site-packages (from trio~=0.17->selenium) (1.2.0)\n",
      "Requirement already satisfied: cffi>=1.14 in d:\\descargas\\anaconda2\\envs\\tensorflow\\lib\\site-packages (from trio~=0.17->selenium) (1.15.1)\n",
      "Requirement already satisfied: sniffio in d:\\descargas\\anaconda2\\envs\\tensorflow\\lib\\site-packages (from trio~=0.17->selenium) (1.3.0)\n",
      "Requirement already satisfied: attrs>=19.2.0 in d:\\descargas\\anaconda2\\envs\\tensorflow\\lib\\site-packages (from trio~=0.17->selenium) (22.1.0)\n",
      "Requirement already satisfied: wsproto>=0.14 in d:\\descargas\\anaconda2\\envs\\tensorflow\\lib\\site-packages (from trio-websocket~=0.9->selenium) (1.2.0)\n",
      "Requirement already satisfied: PySocks!=1.5.7,<2.0,>=1.5.6 in d:\\descargas\\anaconda2\\envs\\tensorflow\\lib\\site-packages (from urllib3[socks]~=1.26->selenium) (1.7.1)\n",
      "Requirement already satisfied: pycparser in d:\\descargas\\anaconda2\\envs\\tensorflow\\lib\\site-packages (from cffi>=1.14->trio~=0.17->selenium) (2.21)\n",
      "Requirement already satisfied: h11<1,>=0.9.0 in d:\\descargas\\anaconda2\\envs\\tensorflow\\lib\\site-packages (from wsproto>=0.14->trio-websocket~=0.9->selenium) (0.14.0)\n",
      "Requirement already satisfied: webdriver-manager in d:\\descargas\\anaconda2\\envs\\tensorflow\\lib\\site-packages (3.8.5)\n",
      "Requirement already satisfied: requests in d:\\descargas\\anaconda2\\envs\\tensorflow\\lib\\site-packages (from webdriver-manager) (2.28.1)\n",
      "Requirement already satisfied: python-dotenv in d:\\descargas\\anaconda2\\envs\\tensorflow\\lib\\site-packages (from webdriver-manager) (0.21.0)\n",
      "Requirement already satisfied: packaging in d:\\descargas\\anaconda2\\envs\\tensorflow\\lib\\site-packages (from webdriver-manager) (22.0)\n",
      "Requirement already satisfied: tqdm in d:\\descargas\\anaconda2\\envs\\tensorflow\\lib\\site-packages (from webdriver-manager) (4.64.1)\n",
      "Requirement already satisfied: certifi>=2017.4.17 in d:\\descargas\\anaconda2\\envs\\tensorflow\\lib\\site-packages (from requests->webdriver-manager) (2022.12.7)\n",
      "Requirement already satisfied: charset-normalizer<3,>=2 in d:\\descargas\\anaconda2\\envs\\tensorflow\\lib\\site-packages (from requests->webdriver-manager) (2.0.4)\n",
      "Requirement already satisfied: urllib3<1.27,>=1.21.1 in d:\\descargas\\anaconda2\\envs\\tensorflow\\lib\\site-packages (from requests->webdriver-manager) (1.26.13)\n",
      "Requirement already satisfied: idna<4,>=2.5 in d:\\descargas\\anaconda2\\envs\\tensorflow\\lib\\site-packages (from requests->webdriver-manager) (3.4)\n",
      "Requirement already satisfied: colorama in d:\\descargas\\anaconda2\\envs\\tensorflow\\lib\\site-packages (from tqdm->webdriver-manager) (0.4.5)\n"
     ]
    }
   ],
   "source": [
    "!pip install -U selenium\n",
    "!pip install webdriver-manager"
   ]
  },
  {
   "cell_type": "code",
   "execution_count": 11,
   "id": "a7e1971e",
   "metadata": {},
   "outputs": [],
   "source": [
    "from selenium import webdriver\n",
    "from selenium.webdriver.chrome.service import Service\n",
    "from selenium.webdriver.common.keys import Keys\n",
    "from selenium.webdriver.common.by import By\n",
    "from webdriver_manager.chrome import ChromeDriverManager\n",
    "from selenium.webdriver.chrome.options import Options\n",
    "from selenium.webdriver.support.ui import WebDriverWait\n",
    "from selenium.webdriver.support import expected_conditions as EC\n",
    "import sqlite3\n",
    "import pandas as pd\n",
    "import time"
   ]
  },
  {
   "cell_type": "markdown",
   "id": "3037a2ff",
   "metadata": {},
   "source": [
    "### 1) Utilizar Selenium para emular un navegador y cargar la página requerida (1 punto)."
   ]
  },
  {
   "cell_type": "code",
   "execution_count": 12,
   "id": "8a27137f",
   "metadata": {},
   "outputs": [],
   "source": [
    "# abro el navegador\n",
    "driver = webdriver.Chrome(service=Service(ChromeDriverManager().install()))\n",
    "driver.implicitly_wait(3)\n",
    "\n",
    "# escribo url\n",
    "driver.get('https://jetsmart.com/cl/es/')\n",
    "\n",
    "time.sleep(1)"
   ]
  },
  {
   "cell_type": "markdown",
   "id": "a619f17c",
   "metadata": {},
   "source": [
    "### 2) Buscar vuelos desde Santiago a Arica del 1 de febrero al 28 de febrero utilizando los campos de inputs del buscador de la página (1 punto)."
   ]
  },
  {
   "cell_type": "code",
   "execution_count": 13,
   "id": "0c335146",
   "metadata": {},
   "outputs": [],
   "source": [
    "elem = driver.find_element('xpath', \"(//button[@type='button'])[2]\").click()\n",
    "time.sleep(1)\n"
   ]
  },
  {
   "cell_type": "markdown",
   "id": "8250d0e5",
   "metadata": {},
   "source": [
    "Al momento de abrir la pagina de Jetsmart se nos abre un pop-up, por lo que deberemos cerrar el anuncio que se genera para poder continuar con el web scraping"
   ]
  },
  {
   "cell_type": "code",
   "execution_count": 14,
   "id": "4209f468",
   "metadata": {},
   "outputs": [],
   "source": [
    "# buscamos el input ORIGEN para la búsqueda\n",
    "elem = driver.find_element(By.CLASS_NAME, \"dg-dummy\").click()\n",
    "time.sleep(1)"
   ]
  },
  {
   "cell_type": "code",
   "execution_count": 15,
   "id": "14916512",
   "metadata": {},
   "outputs": [],
   "source": [
    "# buscamos vuelos desde Santiago\n",
    "elem = driver.find_element(By.CLASS_NAME, \"dg-dummy.in-focus\")\n",
    "elem.clear()\n",
    "elem.send_keys(\"Santiago\")\n",
    "time.sleep(1)"
   ]
  },
  {
   "cell_type": "code",
   "execution_count": 16,
   "id": "f1289b14",
   "metadata": {},
   "outputs": [],
   "source": [
    "# Le damos click al resultado de la busaueda\n",
    "elem = driver.find_element(By.CLASS_NAME, \"dg-typing-results-list-item\").click()\n",
    "time.sleep(1)"
   ]
  },
  {
   "cell_type": "code",
   "execution_count": 17,
   "id": "092f2a63",
   "metadata": {},
   "outputs": [],
   "source": [
    "# Ahora en el input destino buscamos por Arica\n",
    "elem = driver.find_element(By.CLASS_NAME, \"dg-dummy.in-focus\")\n",
    "elem.clear()\n",
    "elem.send_keys(\"Arica\")\n",
    "time.sleep(1)"
   ]
  },
  {
   "cell_type": "code",
   "execution_count": 18,
   "id": "3a58effc",
   "metadata": {},
   "outputs": [],
   "source": [
    "# Le damos click al resultado de la busaueda\n",
    "elem = driver.find_element(By.CLASS_NAME, \"dg-typing-results-list-item\").click()\n",
    "time.sleep(1)"
   ]
  },
  {
   "cell_type": "code",
   "execution_count": 19,
   "id": "218e1d23",
   "metadata": {},
   "outputs": [],
   "source": [
    "# En el input de las fechas buscamos los de ida y de vuelta\n",
    "elem = driver.find_element('xpath' , \"//span[@class='flatpickr-next-month']\").click()\n",
    "time.sleep(1)"
   ]
  },
  {
   "cell_type": "code",
   "execution_count": 20,
   "id": "f5205a51",
   "metadata": {},
   "outputs": [],
   "source": [
    "# Escogemos la fecha de ida para el 1ero de febrero del 2023\n",
    "elem = driver.find_element('xpath' , \"//span[@class='flatpickr-day'][@aria-label='Febrero 1, 2023']\").click()\n",
    "time.sleep(1)"
   ]
  },
  {
   "cell_type": "code",
   "execution_count": 21,
   "id": "7188d1c1",
   "metadata": {},
   "outputs": [],
   "source": [
    "# Escogemos la fecha de vuelta para el 28 de febrero 2023\n",
    "elem = driver.find_element('xpath' , \"(//span[@class='flatpickr-day'][@aria-label='Febrero 28, 2023'])[2]\").click()\n",
    "time.sleep(1)"
   ]
  },
  {
   "cell_type": "code",
   "execution_count": 22,
   "id": "a48dd089",
   "metadata": {},
   "outputs": [],
   "source": [
    "# Damos click en buscar\n",
    "elem = driver.find_element('xpath' , \"//*[text()='Buscar SMART']\").click()\n",
    "time.sleep(1)"
   ]
  },
  {
   "cell_type": "markdown",
   "id": "81d5592d",
   "metadata": {},
   "source": [
    "### 3) Una vez en la página de resultados, extraiga la información de precios y fechas de vuelos de ida y de vuelta para todos los días de febrero y genere un dataframe con la información de precios y fechas (2 puntos)."
   ]
  },
  {
   "cell_type": "code",
   "execution_count": null,
   "id": "c599bae6",
   "metadata": {},
   "outputs": [],
   "source": [
    "Precio_jetsmar = {}"
   ]
  },
  {
   "cell_type": "code",
   "execution_count": null,
   "id": "84606858",
   "metadata": {},
   "outputs": [],
   "source": []
  },
  {
   "cell_type": "code",
   "execution_count": null,
   "id": "e01c1008",
   "metadata": {},
   "outputs": [],
   "source": []
  },
  {
   "cell_type": "code",
   "execution_count": null,
   "id": "3d81bdcd",
   "metadata": {},
   "outputs": [],
   "source": []
  },
  {
   "cell_type": "code",
   "execution_count": null,
   "id": "8cf0eb00",
   "metadata": {},
   "outputs": [],
   "source": []
  },
  {
   "cell_type": "code",
   "execution_count": null,
   "id": "b37a44de",
   "metadata": {},
   "outputs": [],
   "source": []
  },
  {
   "cell_type": "code",
   "execution_count": null,
   "id": "436a5ac0",
   "metadata": {},
   "outputs": [],
   "source": []
  },
  {
   "cell_type": "code",
   "execution_count": null,
   "id": "9b006c96",
   "metadata": {},
   "outputs": [],
   "source": []
  },
  {
   "cell_type": "code",
   "execution_count": null,
   "id": "ac46bc76",
   "metadata": {},
   "outputs": [],
   "source": []
  },
  {
   "cell_type": "code",
   "execution_count": null,
   "id": "e9babf3d",
   "metadata": {},
   "outputs": [],
   "source": []
  }
 ],
 "metadata": {
  "kernelspec": {
   "display_name": "Python 3 (ipykernel)",
   "language": "python",
   "name": "python3"
  },
  "language_info": {
   "codemirror_mode": {
    "name": "ipython",
    "version": 3
   },
   "file_extension": ".py",
   "mimetype": "text/x-python",
   "name": "python",
   "nbconvert_exporter": "python",
   "pygments_lexer": "ipython3",
   "version": "3.9.13"
  }
 },
 "nbformat": 4,
 "nbformat_minor": 5
}
